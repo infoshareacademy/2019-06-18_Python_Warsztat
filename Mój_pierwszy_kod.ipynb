{
 "cells": [
  {
   "cell_type": "markdown",
   "metadata": {},
   "source": [
    "# Deklarowanie typów danych"
   ]
  },
  {
   "cell_type": "code",
   "execution_count": null,
   "metadata": {},
   "outputs": [],
   "source": [
    "moj_wiek = 28\n",
    "#Zadeklarowałam swój wiek. Jest to integer"
   ]
  },
  {
   "cell_type": "code",
   "execution_count": null,
   "metadata": {},
   "outputs": [],
   "source": [
    "o_ktorej_mamy_przerwę = 19.45\n",
    "\n",
    "#Godzina przerwy dzisiaj to float"
   ]
  },
  {
   "cell_type": "code",
   "execution_count": null,
   "metadata": {},
   "outputs": [],
   "source": [
    "moje_nazwisko = \"Wadowska\"\n",
    "#Zadeklarowałam swoje nazwisko. Jest to string"
   ]
  },
  {
   "cell_type": "code",
   "execution_count": null,
   "metadata": {},
   "outputs": [],
   "source": [
    "czy_dzis_jestem = True\n",
    "#Zadeklarowałam swoją obecność tutaj. To jest bool. "
   ]
  },
  {
   "cell_type": "code",
   "execution_count": null,
   "metadata": {},
   "outputs": [],
   "source": [
    "#Jak wywołać?\n",
    "moj_wiek"
   ]
  },
  {
   "cell_type": "code",
   "execution_count": null,
   "metadata": {},
   "outputs": [],
   "source": [
    "o_ktorej_mamy_przerwę "
   ]
  },
  {
   "cell_type": "code",
   "execution_count": null,
   "metadata": {},
   "outputs": [],
   "source": [
    "moje_nazwisko "
   ]
  },
  {
   "cell_type": "code",
   "execution_count": null,
   "metadata": {},
   "outputs": [],
   "source": [
    "czy_dzis_jestem"
   ]
  },
  {
   "cell_type": "code",
   "execution_count": null,
   "metadata": {},
   "outputs": [],
   "source": [
    "#Zadanie \n",
    "#Zadeklaruj za pomocą 3 zmiennych - \n",
    "#-czy masz dziś dobry humor (bool)?\n",
    "#-jaki masz kolor butów,\n",
    "#-która jest godzina\n",
    "#-jaki jest dziś dzień tygodnia"
   ]
  },
  {
   "cell_type": "markdown",
   "metadata": {},
   "source": [
    "# Listy, tuple i słowniki"
   ]
  },
  {
   "cell_type": "code",
   "execution_count": null,
   "metadata": {},
   "outputs": [],
   "source": [
    "#Deklarowanie list"
   ]
  },
  {
   "cell_type": "code",
   "execution_count": null,
   "metadata": {},
   "outputs": [],
   "source": [
    "Lista_nóg_stołu = [\"jedna noga\", \"druga_noga\", \"brak_nogi\", \"czwarta_noga\"]"
   ]
  },
  {
   "cell_type": "code",
   "execution_count": null,
   "metadata": {},
   "outputs": [],
   "source": [
    "Lista_nóg_stołu"
   ]
  },
  {
   "cell_type": "code",
   "execution_count": null,
   "metadata": {},
   "outputs": [],
   "source": [
    "Oceny_w_klasie = [1,5,10,5.5,6,1]"
   ]
  },
  {
   "cell_type": "code",
   "execution_count": null,
   "metadata": {},
   "outputs": [],
   "source": [
    "Oceny_w_klasie"
   ]
  },
  {
   "cell_type": "code",
   "execution_count": null,
   "metadata": {},
   "outputs": [],
   "source": [
    "#listę można generować również jako zakres danych - range\n",
    "lista = range(0,10,3)\n",
    "#elementy od 1 do 10, co 3"
   ]
  },
  {
   "cell_type": "code",
   "execution_count": null,
   "metadata": {
    "scrolled": true
   },
   "outputs": [],
   "source": [
    "for n in lista:\n",
    "  print(n)"
   ]
  },
  {
   "cell_type": "code",
   "execution_count": null,
   "metadata": {},
   "outputs": [],
   "source": [
    "lista_2 = range(15)\n",
    "#elementy do 15 - zbior jednostronnie domkniety"
   ]
  },
  {
   "cell_type": "code",
   "execution_count": null,
   "metadata": {
    "scrolled": true
   },
   "outputs": [],
   "source": [
    "for n in lista_2:\n",
    "  print(n)"
   ]
  },
  {
   "cell_type": "code",
   "execution_count": null,
   "metadata": {},
   "outputs": [],
   "source": [
    "Oceny_w_klasie_2 = [4,5,1, \"dwójka\", \"jedynka\"]"
   ]
  },
  {
   "cell_type": "code",
   "execution_count": null,
   "metadata": {},
   "outputs": [],
   "source": [
    "Oceny_w_klasie_2"
   ]
  },
  {
   "cell_type": "markdown",
   "metadata": {},
   "source": [
    "#Deklarowanie tupli(krotka)"
   ]
  },
  {
   "cell_type": "code",
   "execution_count": null,
   "metadata": {},
   "outputs": [],
   "source": [
    "tupla=(\"a\",\"b\",\"c\",\"y\",\"element\")"
   ]
  },
  {
   "cell_type": "code",
   "execution_count": null,
   "metadata": {},
   "outputs": [],
   "source": [
    "print(tupla)"
   ]
  },
  {
   "cell_type": "code",
   "execution_count": null,
   "metadata": {},
   "outputs": [],
   "source": [
    "tupla_z_cyferkami = (\"a\",\"b\",10,2,\"element\")"
   ]
  },
  {
   "cell_type": "code",
   "execution_count": null,
   "metadata": {},
   "outputs": [],
   "source": [
    "tupla_z_cyferkami"
   ]
  },
  {
   "cell_type": "code",
   "execution_count": null,
   "metadata": {},
   "outputs": [],
   "source": [
    "#Zarówno z listy jak i krotki można \"wybierać\" elementy za pomoca indexu\n",
    "#Ważne - w pythonie indexujemy od 0"
   ]
  },
  {
   "cell_type": "code",
   "execution_count": null,
   "metadata": {},
   "outputs": [],
   "source": [
    "tupla_z_cyferkami[0]"
   ]
  },
  {
   "cell_type": "code",
   "execution_count": null,
   "metadata": {},
   "outputs": [],
   "source": [
    "tupla_z_cyferkami[1]"
   ]
  },
  {
   "cell_type": "markdown",
   "metadata": {},
   "source": [
    "Czym się różni lista od krotki:\n",
    "Na listach można wykonywać operacje modyfikujące ją, na krotkach nie.\n",
    "Dlatego krotki są bardzo użyteczne w sytuacji, kiedy chcemy coś zakodować bez możliwości zmiany\n",
    "Przykładowo: Zakodujemy dni tygodnia, żeby ktoś nie zamienił każdego na poniedziałek. "
   ]
  },
  {
   "cell_type": "code",
   "execution_count": null,
   "metadata": {},
   "outputs": [],
   "source": [
    "#Deklarowanie słowników"
   ]
  },
  {
   "cell_type": "markdown",
   "metadata": {},
   "source": [
    "W słownikach obowiązują nawiasy wąsate\n",
    "Struktura słownika polega na dobraniu par klucz-wartość.\n",
    "\n",
    "klucz \n",
    "– musi być typem niezmiennym (string, \n",
    "tuple, liczba), musi być unikalny (tylko jeden w \n",
    "słowniku) \n",
    "wartość \n",
    "– mogą być powtórzone "
   ]
  },
  {
   "cell_type": "code",
   "execution_count": null,
   "metadata": {},
   "outputs": [],
   "source": [
    "slownik_kieszonkowy = {\"kieszeń\":\"portfel\", \"torebka\":\"kanapka\"}"
   ]
  },
  {
   "cell_type": "code",
   "execution_count": null,
   "metadata": {},
   "outputs": [],
   "source": [
    "slownik_kieszonkowy"
   ]
  },
  {
   "cell_type": "code",
   "execution_count": null,
   "metadata": {},
   "outputs": [],
   "source": [
    "slownik_ilosciowo_kieszonkowy = {\"portfel\":1, \"kanapka\": 2}"
   ]
  },
  {
   "cell_type": "code",
   "execution_count": null,
   "metadata": {},
   "outputs": [],
   "source": [
    "slownik_ilosciowo_kieszonkowy"
   ]
  },
  {
   "cell_type": "code",
   "execution_count": null,
   "metadata": {},
   "outputs": [],
   "source": [
    "slownik_ilosciowo_kieszonkowy[\"portfel\"]\n",
    "#możemy wybierać ze słowników po kluczach"
   ]
  },
  {
   "cell_type": "code",
   "execution_count": null,
   "metadata": {},
   "outputs": [],
   "source": [
    "#Zadania:\n",
    "#Zadeklaruj listę pięcioelementową zawierajacą różne zwierzęta\n",
    "#Zadeklaruj tuplę składającą się z trzech typów danych\n",
    "#Zadeklaruj słownik, który podaje ilości zwierząt. Dodaj do niego 3 pary klucz-wartość.\n",
    "\n",
    "#Ważne - za każdym razem nazywaj swoje zmienne. Wywołuj je, żeby sprawdzić, czy działają"
   ]
  },
  {
   "cell_type": "markdown",
   "metadata": {},
   "source": [
    "Każdy typ danych posiada zdefiniowane metody (zwane prościej: funkcjami), które są po prostu\n",
    "najbardziej popularnymi działaniami na tych danych. Dlatego też zostały zdefiniowane na potrzeby języka. Poniżej zawarto kilka przykładowych. "
   ]
  },
  {
   "cell_type": "code",
   "execution_count": null,
   "metadata": {},
   "outputs": [],
   "source": [
    "#dodawanie nowego elementu do listy\n",
    "\n",
    "Lista_nóg_stołu.append(\"piąta noga u stołu\")"
   ]
  },
  {
   "cell_type": "code",
   "execution_count": null,
   "metadata": {
    "scrolled": true
   },
   "outputs": [],
   "source": [
    "Lista_nóg_stołu"
   ]
  },
  {
   "cell_type": "markdown",
   "metadata": {},
   "source": [
    "#Jeśli lista składa się z wartości numerycznych możemy wykonywać na nich operacje"
   ]
  },
  {
   "cell_type": "code",
   "execution_count": null,
   "metadata": {},
   "outputs": [],
   "source": [
    "sum(lista_2)"
   ]
  },
  {
   "cell_type": "code",
   "execution_count": null,
   "metadata": {},
   "outputs": [],
   "source": [
    "#Na listach można dokonywać slicingu, czyli wybierać więcej niż jeden element\n",
    "ucięta_lista = lista_2[1:5]\n",
    "#wybieramy z listy numery o indexach od 1 do 5"
   ]
  },
  {
   "cell_type": "code",
   "execution_count": null,
   "metadata": {},
   "outputs": [],
   "source": [
    "for n in ucięta_lista:\n",
    "    print(n)"
   ]
  },
  {
   "cell_type": "code",
   "execution_count": null,
   "metadata": {},
   "outputs": [],
   "source": [
    "Oceny_w_klasie[:2] \n",
    "# dwukropek oznacza, że wybieramy z listy elementy do numeru o danym indexie"
   ]
  },
  {
   "cell_type": "code",
   "execution_count": null,
   "metadata": {},
   "outputs": [],
   "source": [
    "#Można też zapytać listy, jaki index ma dana wartość\n",
    "Oceny_w_klasie.index(1)"
   ]
  },
  {
   "cell_type": "code",
   "execution_count": null,
   "metadata": {},
   "outputs": [],
   "source": [
    "#element z listy można usunąć\n",
    "\n",
    "Oceny_w_klasie.remove(5)"
   ]
  },
  {
   "cell_type": "code",
   "execution_count": null,
   "metadata": {},
   "outputs": [],
   "source": [
    "#Listy mozna dodawać\n",
    "Oceny_w_klasach = Oceny_w_klasie + Oceny_w_klasie_2\n",
    "#Wtedy listy z prawej sa appendowane do listy po lewej"
   ]
  },
  {
   "cell_type": "code",
   "execution_count": null,
   "metadata": {},
   "outputs": [],
   "source": [
    "Oceny_w_klasach"
   ]
  },
  {
   "cell_type": "markdown",
   "metadata": {},
   "source": [
    "Zadanie\n",
    "Wykonaj polecenie slice na liście \"Lista_nóg_stołu\"\n",
    "Utnij:\n",
    "element o indexie 4 a potem \n",
    "weź tylko pierwsze dwa elementy z listy (*o indexie 0 i 1)"
   ]
  },
  {
   "cell_type": "markdown",
   "metadata": {},
   "source": [
    "Funkcja- fragment kodu, który można wielokrotnie odpalać i używac w wielu miejscach projektu. \n",
    "Składa się z bloków\n",
    "\n",
    "\n",
    "naglowek_bloku: \n",
    "    1. linia bloku \n",
    "    2. linia bloku \n",
    "    ...\n",
    "    \n",
    "Funkcję rozpoczyna się instrukcją def - wtedy funkcję definiujemy."
   ]
  },
  {
   "cell_type": "code",
   "execution_count": null,
   "metadata": {},
   "outputs": [],
   "source": [
    "#Funkcja, która mówi gdzie jesteśmy\n",
    "def funkcja_miejsca():\n",
    "    print (\"Jesteśmy w Centrum\")"
   ]
  },
  {
   "cell_type": "code",
   "execution_count": null,
   "metadata": {},
   "outputs": [],
   "source": [
    "funkcja_miejsca()"
   ]
  },
  {
   "cell_type": "code",
   "execution_count": null,
   "metadata": {},
   "outputs": [],
   "source": [
    "#Funkcja, która wita\n",
    "\n",
    "def funkcja_witania():\n",
    "    print (\"Witamy na w Centrum\")"
   ]
  },
  {
   "cell_type": "code",
   "execution_count": null,
   "metadata": {},
   "outputs": [],
   "source": [
    "funkcja_witania()"
   ]
  },
  {
   "cell_type": "code",
   "execution_count": null,
   "metadata": {},
   "outputs": [],
   "source": [
    "#Funkcja witania personalnego\n",
    "#ma ona dwa elementy - należy je podać. \n",
    "def funkcja_witania_personalnego(kogo, dlaczego):\n",
    "    print (\"Witam \" + kogo + \" ponieważ \" + dlaczego)\n",
    "    \n",
    "#W tym przypadku kogo i dlaczego to parametry funkcji"
   ]
  },
  {
   "cell_type": "code",
   "execution_count": null,
   "metadata": {},
   "outputs": [],
   "source": [
    "funkcja_witania_personalnego(\"kolegę/koleżankę\", \"jest piękny dzień\") # Wypisze immienne zyczenia"
   ]
  },
  {
   "cell_type": "code",
   "execution_count": null,
   "metadata": {},
   "outputs": [],
   "source": [
    "#Wartość parametru można podać odrazu w funkcji\n",
    "def funkcja_najlepszego_jedzenia(jedzenie = \"frytki\"):\n",
    "  print(\"Najbardziej na świecie lubię \" + jedzenie)\n",
    "\n",
    "#Za każdym razem ta wartość będzie podawana - zanim ja podmienimy"
   ]
  },
  {
   "cell_type": "code",
   "execution_count": null,
   "metadata": {},
   "outputs": [],
   "source": [
    "funkcja_najlepszego_jedzenia()"
   ]
  },
  {
   "cell_type": "code",
   "execution_count": null,
   "metadata": {},
   "outputs": [],
   "source": [
    "funkcja_najlepszego_jedzenia(\"burgery\")\n",
    "funkcja_najlepszego_jedzenia(\"marmoladę\")"
   ]
  },
  {
   "cell_type": "code",
   "execution_count": null,
   "metadata": {},
   "outputs": [],
   "source": [
    "#Jako parametr można podać listę"
   ]
  },
  {
   "cell_type": "code",
   "execution_count": null,
   "metadata": {},
   "outputs": [],
   "source": [
    "def funkcja_listy_najlepszego_jedzenia(jedzenie):\n",
    "  for x in jedzenie:\n",
    "    print(\"Najbardziej na świecie lubię \" + x)\n",
    "\n",
    "jedzenie = [\"owoce\", \"warzywa\", \"pizzę z ananasem\"]"
   ]
  },
  {
   "cell_type": "code",
   "execution_count": null,
   "metadata": {},
   "outputs": [],
   "source": [
    "funkcja_listy_najlepszego_jedzenia(jedzenie)"
   ]
  },
  {
   "cell_type": "code",
   "execution_count": null,
   "metadata": {},
   "outputs": [],
   "source": [
    "#Funkcje mogą mnożyć wartości\n",
    "\n",
    "def funkcja_mnozaca(liczba_mnozona):\n",
    "  return 100 * liczba_mnozona\n",
    " "
   ]
  },
  {
   "cell_type": "markdown",
   "metadata": {},
   "source": [
    "# Zadanie:\n",
    "1. Napisz funkcję, w której ktoś może się przedstawić i powiedzieć skąd jest.\n",
    "Wywołaj ją przedstawiając siebie. \n",
    "\n",
    "2. Napisz funkcję, która mówi,że Ala ma kota. Spraw, żeby dało się podmienić Ali zwierzatko\n",
    "3. Napisz funkcję, która mnoży daną liczbę przez 100"
   ]
  },
  {
   "cell_type": "markdown",
   "metadata": {},
   "source": [
    "# Operatory warunkowe"
   ]
  },
  {
   "cell_type": "code",
   "execution_count": null,
   "metadata": {},
   "outputs": [],
   "source": [
    "x = 2"
   ]
  },
  {
   "cell_type": "code",
   "execution_count": null,
   "metadata": {},
   "outputs": [],
   "source": [
    "print (x == 2) # wypisze True"
   ]
  },
  {
   "cell_type": "code",
   "execution_count": null,
   "metadata": {},
   "outputs": [],
   "source": [
    "print (x != 2) # wypisze False"
   ]
  },
  {
   "cell_type": "code",
   "execution_count": null,
   "metadata": {},
   "outputs": [],
   "source": [
    "print (x == 3) # wypisze False"
   ]
  },
  {
   "cell_type": "code",
   "execution_count": null,
   "metadata": {},
   "outputs": [],
   "source": [
    "print (x < 3)  # wypisze True"
   ]
  },
  {
   "cell_type": "code",
   "execution_count": null,
   "metadata": {},
   "outputs": [],
   "source": [
    "imie = \"Jan\"\n",
    "wiek = 23"
   ]
  },
  {
   "cell_type": "code",
   "execution_count": null,
   "metadata": {},
   "outputs": [],
   "source": [
    "if imie == \"Jan\" and wiek == 23:\n",
    "    print (\"Nazywasz sie Jan i masz 23 lata.\")\n"
   ]
  },
  {
   "cell_type": "code",
   "execution_count": null,
   "metadata": {},
   "outputs": [],
   "source": [
    "if imie == \"Jan\" or imie == \"Robert\":\n",
    "    print (\"Nazywasz sie Jan lub Robert\")\n",
    "else:\n",
    "    print (\"Nie nazywam się jak ani Robert\")"
   ]
  },
  {
   "cell_type": "markdown",
   "metadata": {},
   "source": [
    "# Zadanie\n",
    "Zadeklaruj swoj wiek jako zmienna\n",
    "Napisz operator logiczny, który Twój wiek jest większy niż 25\n",
    "zwróci komunikat \"To już ćwierć wieku!\"\n",
    "jeśli nie \"Aleś młody!\""
   ]
  },
  {
   "cell_type": "code",
   "execution_count": null,
   "metadata": {},
   "outputs": [],
   "source": [
    "#Gratis: ZASTOSOWANIE OPERATORA W FUNKCJI:\n",
    "def dzielenie(dzielna, dzielnik):\n",
    "    if(dzielnik == 0):\n",
    "        return print(\"czemu dzielisz przez 0 łazego?\")\n",
    "    else:\n",
    "        return dzielna / dzielnik\n",
    "\n",
    "    \n",
    "# == jest przypisaniem równości. Jeśli dzielnik jest równy 0 operacja ta wystawia bool-a czyli True"
   ]
  },
  {
   "cell_type": "code",
   "execution_count": null,
   "metadata": {},
   "outputs": [],
   "source": [
    "dzielenie(10,0)"
   ]
  },
  {
   "cell_type": "code",
   "execution_count": null,
   "metadata": {},
   "outputs": [],
   "source": [
    "dzielenie(10,2)"
   ]
  }
 ],
 "metadata": {
  "kernelspec": {
   "display_name": "Python 3",
   "language": "python",
   "name": "python3"
  },
  "language_info": {
   "codemirror_mode": {
    "name": "ipython",
    "version": 3
   },
   "file_extension": ".py",
   "mimetype": "text/x-python",
   "name": "python",
   "nbconvert_exporter": "python",
   "pygments_lexer": "ipython3",
   "version": "3.7.1"
  }
 },
 "nbformat": 4,
 "nbformat_minor": 2
}
